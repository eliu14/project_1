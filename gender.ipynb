{
 "cells": [
  {
   "cell_type": "markdown",
   "metadata": {},
   "source": [
    "# Gender and Corporate Stress\n",
    "The goal of this notebook is to see if there is a relationship between gender and corporate stress. The main questions we are tackling are: \"Which gender is experiencing corporate stress the most?\" and \"Does experiencing gender bias contribute to increased stress?\"\n",
    "### Background\n",
    "These question are based off of data we have found on corporate stress and possible related factors gathered in India. \n",
    "\n",
    "### Analysis\n",
    "The first box plot created visualizes the distribution of the stress level experienced by male, female, and non-binary individuals. The box plot very clearly shows a uniform distribution of the stress levels for each of the genders, which signals the possibility of the data being synthetic.\n",
    "\n",
    "The second box plot displays the distribution of stress level experienced by individuals who have indicated they have experienced gender bias and those who indicated they have not experienced gender bias. The box plot also visualizes a uniform distribution of the stress level by each group.\n",
    "\n",
    "The final visual is a pie chart illustrating the percentage distribution of each gender among individuals who reported they have experienced gender bias.\n",
    "\n",
    "After analyzing the visuals that we have created based off of the data, we have concluded that the dataset used is highly likely to be synthetic."
   ]
  },
  {
   "cell_type": "code",
   "execution_count": null,
   "metadata": {},
   "outputs": [],
   "source": []
  },
  {
   "cell_type": "code",
   "execution_count": 18,
   "metadata": {},
   "outputs": [],
   "source": [
    "import warnings\n",
    "warnings.filterwarnings('ignore')"
   ]
  },
  {
   "cell_type": "code",
   "execution_count": 19,
   "metadata": {},
   "outputs": [],
   "source": [
    "# %matplotlib widget\n",
    "from pathlib import Path\n",
    "import pandas as pd\n",
    "import scipy.stats as stats"
   ]
  },
  {
   "cell_type": "code",
   "execution_count": 20,
   "metadata": {},
   "outputs": [
    {
     "data": {
      "text/html": [
       "<div>\n",
       "<style scoped>\n",
       "    .dataframe tbody tr th:only-of-type {\n",
       "        vertical-align: middle;\n",
       "    }\n",
       "\n",
       "    .dataframe tbody tr th {\n",
       "        vertical-align: top;\n",
       "    }\n",
       "\n",
       "    .dataframe thead th {\n",
       "        text-align: right;\n",
       "    }\n",
       "</style>\n",
       "<table border=\"1\" class=\"dataframe\">\n",
       "  <thead>\n",
       "    <tr style=\"text-align: right;\">\n",
       "      <th></th>\n",
       "      <th>ID</th>\n",
       "      <th>Age</th>\n",
       "      <th>Gender</th>\n",
       "      <th>Marital_Status</th>\n",
       "      <th>Job_Role</th>\n",
       "      <th>Experience_Years</th>\n",
       "      <th>Monthly_Salary_INR</th>\n",
       "      <th>Working_Hours_per_Week</th>\n",
       "      <th>Commute_Time_Hours</th>\n",
       "      <th>Remote_Work</th>\n",
       "      <th>...</th>\n",
       "      <th>Work_Life_Balance</th>\n",
       "      <th>Family_Support_Level</th>\n",
       "      <th>Job_Satisfaction</th>\n",
       "      <th>Performance_Rating</th>\n",
       "      <th>Team_Size</th>\n",
       "      <th>Training_Opportunities</th>\n",
       "      <th>Gender_Bias_Experienced</th>\n",
       "      <th>Discrimination_Experienced</th>\n",
       "      <th>Burnout_Symptoms</th>\n",
       "      <th>Location</th>\n",
       "    </tr>\n",
       "  </thead>\n",
       "  <tbody>\n",
       "    <tr>\n",
       "      <th>0</th>\n",
       "      <td>1</td>\n",
       "      <td>56</td>\n",
       "      <td>Non-Binary</td>\n",
       "      <td>Widowed</td>\n",
       "      <td>Developer</td>\n",
       "      <td>5</td>\n",
       "      <td>102703.08</td>\n",
       "      <td>44</td>\n",
       "      <td>1.72</td>\n",
       "      <td>True</td>\n",
       "      <td>...</td>\n",
       "      <td>9</td>\n",
       "      <td>2</td>\n",
       "      <td>5</td>\n",
       "      <td>10</td>\n",
       "      <td>38</td>\n",
       "      <td>False</td>\n",
       "      <td>True</td>\n",
       "      <td>True</td>\n",
       "      <td>No</td>\n",
       "      <td>Tier-3</td>\n",
       "    </tr>\n",
       "    <tr>\n",
       "      <th>1</th>\n",
       "      <td>2</td>\n",
       "      <td>46</td>\n",
       "      <td>Female</td>\n",
       "      <td>Single</td>\n",
       "      <td>Analyst</td>\n",
       "      <td>20</td>\n",
       "      <td>165583.91</td>\n",
       "      <td>54</td>\n",
       "      <td>0.62</td>\n",
       "      <td>True</td>\n",
       "      <td>...</td>\n",
       "      <td>9</td>\n",
       "      <td>1</td>\n",
       "      <td>10</td>\n",
       "      <td>9</td>\n",
       "      <td>72</td>\n",
       "      <td>True</td>\n",
       "      <td>True</td>\n",
       "      <td>True</td>\n",
       "      <td>No</td>\n",
       "      <td>Tier-3</td>\n",
       "    </tr>\n",
       "    <tr>\n",
       "      <th>2</th>\n",
       "      <td>3</td>\n",
       "      <td>32</td>\n",
       "      <td>Female</td>\n",
       "      <td>Single</td>\n",
       "      <td>Developer</td>\n",
       "      <td>10</td>\n",
       "      <td>38005.39</td>\n",
       "      <td>81</td>\n",
       "      <td>1.22</td>\n",
       "      <td>False</td>\n",
       "      <td>...</td>\n",
       "      <td>6</td>\n",
       "      <td>1</td>\n",
       "      <td>1</td>\n",
       "      <td>1</td>\n",
       "      <td>67</td>\n",
       "      <td>False</td>\n",
       "      <td>False</td>\n",
       "      <td>False</td>\n",
       "      <td>Yes</td>\n",
       "      <td>Metro</td>\n",
       "    </tr>\n",
       "    <tr>\n",
       "      <th>3</th>\n",
       "      <td>4</td>\n",
       "      <td>60</td>\n",
       "      <td>Female</td>\n",
       "      <td>Divorced</td>\n",
       "      <td>Analyst</td>\n",
       "      <td>26</td>\n",
       "      <td>51127.36</td>\n",
       "      <td>79</td>\n",
       "      <td>2.03</td>\n",
       "      <td>False</td>\n",
       "      <td>...</td>\n",
       "      <td>8</td>\n",
       "      <td>10</td>\n",
       "      <td>5</td>\n",
       "      <td>10</td>\n",
       "      <td>98</td>\n",
       "      <td>True</td>\n",
       "      <td>True</td>\n",
       "      <td>False</td>\n",
       "      <td>Yes</td>\n",
       "      <td>Metro</td>\n",
       "    </tr>\n",
       "    <tr>\n",
       "      <th>4</th>\n",
       "      <td>5</td>\n",
       "      <td>25</td>\n",
       "      <td>Male</td>\n",
       "      <td>Married</td>\n",
       "      <td>Sales</td>\n",
       "      <td>29</td>\n",
       "      <td>174597.45</td>\n",
       "      <td>63</td>\n",
       "      <td>1.45</td>\n",
       "      <td>True</td>\n",
       "      <td>...</td>\n",
       "      <td>3</td>\n",
       "      <td>1</td>\n",
       "      <td>9</td>\n",
       "      <td>2</td>\n",
       "      <td>85</td>\n",
       "      <td>True</td>\n",
       "      <td>False</td>\n",
       "      <td>False</td>\n",
       "      <td>No</td>\n",
       "      <td>Tier-1</td>\n",
       "    </tr>\n",
       "  </tbody>\n",
       "</table>\n",
       "<p>5 rows × 30 columns</p>\n",
       "</div>"
      ],
      "text/plain": [
       "   ID  Age      Gender Marital_Status   Job_Role  Experience_Years  \\\n",
       "0   1   56  Non-Binary        Widowed  Developer                 5   \n",
       "1   2   46      Female         Single    Analyst                20   \n",
       "2   3   32      Female         Single  Developer                10   \n",
       "3   4   60      Female       Divorced    Analyst                26   \n",
       "4   5   25        Male        Married      Sales                29   \n",
       "\n",
       "   Monthly_Salary_INR  Working_Hours_per_Week  Commute_Time_Hours  \\\n",
       "0           102703.08                      44                1.72   \n",
       "1           165583.91                      54                0.62   \n",
       "2            38005.39                      81                1.22   \n",
       "3            51127.36                      79                2.03   \n",
       "4           174597.45                      63                1.45   \n",
       "\n",
       "   Remote_Work  ...  Work_Life_Balance Family_Support_Level Job_Satisfaction  \\\n",
       "0         True  ...                  9                    2                5   \n",
       "1         True  ...                  9                    1               10   \n",
       "2        False  ...                  6                    1                1   \n",
       "3        False  ...                  8                   10                5   \n",
       "4         True  ...                  3                    1                9   \n",
       "\n",
       "  Performance_Rating  Team_Size  Training_Opportunities  \\\n",
       "0                 10         38                   False   \n",
       "1                  9         72                    True   \n",
       "2                  1         67                   False   \n",
       "3                 10         98                    True   \n",
       "4                  2         85                    True   \n",
       "\n",
       "   Gender_Bias_Experienced  Discrimination_Experienced  Burnout_Symptoms  \\\n",
       "0                     True                        True                No   \n",
       "1                     True                        True                No   \n",
       "2                    False                       False               Yes   \n",
       "3                     True                       False               Yes   \n",
       "4                    False                       False                No   \n",
       "\n",
       "   Location  \n",
       "0    Tier-3  \n",
       "1    Tier-3  \n",
       "2     Metro  \n",
       "3     Metro  \n",
       "4    Tier-1  \n",
       "\n",
       "[5 rows x 30 columns]"
      ]
     },
     "execution_count": 20,
     "metadata": {},
     "output_type": "execute_result"
    }
   ],
   "source": [
    "corporate_stress_data = Path(\"corporate_stress_dataset.csv\")\n",
    "corporate_stress_df = pd.read_csv(corporate_stress_data)\n",
    "corporate_stress_df.head()"
   ]
  },
  {
   "cell_type": "code",
   "execution_count": 21,
   "metadata": {},
   "outputs": [
    {
     "data": {
      "text/html": [
       "<div>\n",
       "<style scoped>\n",
       "    .dataframe tbody tr th:only-of-type {\n",
       "        vertical-align: middle;\n",
       "    }\n",
       "\n",
       "    .dataframe tbody tr th {\n",
       "        vertical-align: top;\n",
       "    }\n",
       "\n",
       "    .dataframe thead th {\n",
       "        text-align: right;\n",
       "    }\n",
       "</style>\n",
       "<table border=\"1\" class=\"dataframe\">\n",
       "  <thead>\n",
       "    <tr style=\"text-align: right;\">\n",
       "      <th></th>\n",
       "      <th>Gender</th>\n",
       "      <th>Gender_Bias_Experienced</th>\n",
       "      <th>Stress_Level</th>\n",
       "    </tr>\n",
       "  </thead>\n",
       "  <tbody>\n",
       "    <tr>\n",
       "      <th>0</th>\n",
       "      <td>Non-Binary</td>\n",
       "      <td>True</td>\n",
       "      <td>0</td>\n",
       "    </tr>\n",
       "    <tr>\n",
       "      <th>1</th>\n",
       "      <td>Female</td>\n",
       "      <td>True</td>\n",
       "      <td>7</td>\n",
       "    </tr>\n",
       "    <tr>\n",
       "      <th>2</th>\n",
       "      <td>Female</td>\n",
       "      <td>False</td>\n",
       "      <td>7</td>\n",
       "    </tr>\n",
       "    <tr>\n",
       "      <th>3</th>\n",
       "      <td>Female</td>\n",
       "      <td>True</td>\n",
       "      <td>6</td>\n",
       "    </tr>\n",
       "    <tr>\n",
       "      <th>4</th>\n",
       "      <td>Male</td>\n",
       "      <td>False</td>\n",
       "      <td>8</td>\n",
       "    </tr>\n",
       "    <tr>\n",
       "      <th>...</th>\n",
       "      <td>...</td>\n",
       "      <td>...</td>\n",
       "      <td>...</td>\n",
       "    </tr>\n",
       "    <tr>\n",
       "      <th>49995</th>\n",
       "      <td>Female</td>\n",
       "      <td>True</td>\n",
       "      <td>0</td>\n",
       "    </tr>\n",
       "    <tr>\n",
       "      <th>49996</th>\n",
       "      <td>Male</td>\n",
       "      <td>True</td>\n",
       "      <td>1</td>\n",
       "    </tr>\n",
       "    <tr>\n",
       "      <th>49997</th>\n",
       "      <td>Female</td>\n",
       "      <td>True</td>\n",
       "      <td>6</td>\n",
       "    </tr>\n",
       "    <tr>\n",
       "      <th>49998</th>\n",
       "      <td>Male</td>\n",
       "      <td>False</td>\n",
       "      <td>4</td>\n",
       "    </tr>\n",
       "    <tr>\n",
       "      <th>49999</th>\n",
       "      <td>Female</td>\n",
       "      <td>True</td>\n",
       "      <td>9</td>\n",
       "    </tr>\n",
       "  </tbody>\n",
       "</table>\n",
       "<p>50000 rows × 3 columns</p>\n",
       "</div>"
      ],
      "text/plain": [
       "           Gender  Gender_Bias_Experienced  Stress_Level\n",
       "0      Non-Binary                     True             0\n",
       "1          Female                     True             7\n",
       "2          Female                    False             7\n",
       "3          Female                     True             6\n",
       "4            Male                    False             8\n",
       "...           ...                      ...           ...\n",
       "49995      Female                     True             0\n",
       "49996        Male                     True             1\n",
       "49997      Female                     True             6\n",
       "49998        Male                    False             4\n",
       "49999      Female                     True             9\n",
       "\n",
       "[50000 rows x 3 columns]"
      ]
     },
     "execution_count": 21,
     "metadata": {},
     "output_type": "execute_result"
    }
   ],
   "source": [
    "gender_stress_df = corporate_stress_df.loc[:,[\"Gender\",\"Gender_Bias_Experienced\",\"Stress_Level\"]].copy()\n",
    "gender_stress_df"
   ]
  },
  {
   "cell_type": "markdown",
   "metadata": {},
   "source": [
    "# Stress Level by Gender"
   ]
  },
  {
   "cell_type": "code",
   "execution_count": 22,
   "metadata": {},
   "outputs": [
    {
     "data": {
      "text/plain": [
       "<Axes: title={'center': 'Stress_Level'}, xlabel='Gender'>"
      ]
     },
     "execution_count": 22,
     "metadata": {},
     "output_type": "execute_result"
    },
    {
     "data": {
      "image/png": "[encoded data removed]",
      "text/plain": [
       "<Figure size 1000x500 with 1 Axes>"
      ]
     },
     "metadata": {},
     "output_type": "display_data"
    }
   ],
   "source": [
    "gender_stress_df.boxplot(\"Stress_Level\",by=\"Gender\", figsize=(10,5))"
   ]
  },
  {
   "cell_type": "markdown",
   "metadata": {},
   "source": [
    "# Experience of Gender Bias by Gender"
   ]
  },
  {
   "cell_type": "code",
   "execution_count": 23,
   "metadata": {},
   "outputs": [
    {
     "data": {
      "text/plain": [
       "<Axes: title={'center': 'Stress_Level'}, xlabel='Gender_Bias_Experienced'>"
      ]
     },
     "execution_count": 23,
     "metadata": {},
     "output_type": "execute_result"
    },
    {
     "data": {
      "image/png": "[encoded data removed]",
      "text/plain": [
       "<Figure size 1000x500 with 1 Axes>"
      ]
     },
     "metadata": {},
     "output_type": "display_data"
    }
   ],
   "source": [
    "gender_bias_group = gender_stress_df.groupby([\"Gender_Bias_Experienced\"]).count()\n",
    "gender_stress_df.boxplot(\"Stress_Level\",by=\"Gender_Bias_Experienced\", figsize=(10,5))"
   ]
  },
  {
   "cell_type": "code",
   "execution_count": 24,
   "metadata": {},
   "outputs": [
    {
     "data": {
      "text/plain": [
       "<Axes: title={'center': 'Gender Bias Experienced True'}, ylabel='Gender'>"
      ]
     },
     "execution_count": 24,
     "metadata": {},
     "output_type": "execute_result"
    },
    {
     "data": {
      "image/png": "[encoded data removed]",
      "text/plain": [
       "<Figure size 10000x500 with 1 Axes>"
      ]
     },
     "metadata": {},
     "output_type": "display_data"
    }
   ],
   "source": [
    "gender_bias_true = gender_stress_df.loc[gender_stress_df[\"Gender_Bias_Experienced\"] == True]\n",
    "gender_bias_group = gender_bias_true.groupby(\"Gender\").count()\n",
    "gender_bias_group\n",
    "gender_bias_group.plot(kind=\"pie\", y=\"Gender_Bias_Experienced\", title=\"Gender Bias Experienced True\",ylabel=\"Gender\",autopct='%.1f%%', figsize=(100,5),legend=False)"
   ]
  }
 ],
 "metadata": {
  "kernelspec": {
   "display_name": "dev",
   "language": "python",
   "name": "python3"
  },
  "language_info": {
   "codemirror_mode": {
    "name": "ipython",
    "version": 3
   },
   "file_extension": ".py",
   "mimetype": "text/x-python",
   "name": "python",
   "nbconvert_exporter": "python",
   "pygments_lexer": "ipython3",
   "version": "3.10.16"
  }
 },
 "nbformat": 4,
 "nbformat_minor": 2
}
