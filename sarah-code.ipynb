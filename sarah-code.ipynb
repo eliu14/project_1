{
 "cells": [
  {
   "cell_type": "code",
   "execution_count": 14,
   "metadata": {},
   "outputs": [
    {
     "name": "stdout",
     "output_type": "stream",
     "text": [
      "<class 'pandas.core.frame.DataFrame'>\n",
      "RangeIndex: 50000 entries, 0 to 49999\n",
      "Data columns (total 30 columns):\n",
      " #   Column                            Non-Null Count  Dtype  \n",
      "---  ------                            --------------  -----  \n",
      " 0   ID                                50000 non-null  int64  \n",
      " 1   Age                               50000 non-null  int64  \n",
      " 2   Gender                            50000 non-null  object \n",
      " 3   Marital_Status                    50000 non-null  object \n",
      " 4   Job_Role                          50000 non-null  object \n",
      " 5   Experience_Years                  50000 non-null  int64  \n",
      " 6   Monthly_Salary_INR                50000 non-null  float64\n",
      " 7   Working_Hours_per_Week            50000 non-null  int64  \n",
      " 8   Commute_Time_Hours                50000 non-null  float64\n",
      " 9   Remote_Work                       50000 non-null  bool   \n",
      " 10  Stress_Level                      50000 non-null  int64  \n",
      " 11  Health_Issues                     37459 non-null  object \n",
      " 12  Company_Size                      50000 non-null  object \n",
      " 13  Department                        50000 non-null  object \n",
      " 14  Sleep_Hours                       50000 non-null  float64\n",
      " 15  Physical_Activity_Hours_per_Week  50000 non-null  float64\n",
      " 16  Mental_Health_Leave_Taken         50000 non-null  bool   \n",
      " 17  Manager_Support_Level             50000 non-null  int64  \n",
      " 18  Work_Pressure_Level               50000 non-null  int64  \n",
      " 19  Annual_Leaves_Taken               50000 non-null  int64  \n",
      " 20  Work_Life_Balance                 50000 non-null  int64  \n",
      " 21  Family_Support_Level              50000 non-null  int64  \n",
      " 22  Job_Satisfaction                  50000 non-null  int64  \n",
      " 23  Performance_Rating                50000 non-null  int64  \n",
      " 24  Team_Size                         50000 non-null  int64  \n",
      " 25  Training_Opportunities            50000 non-null  bool   \n",
      " 26  Gender_Bias_Experienced           50000 non-null  bool   \n",
      " 27  Discrimination_Experienced        50000 non-null  bool   \n",
      " 28  Burnout_Symptoms                  50000 non-null  object \n",
      " 29  Location                          50000 non-null  object \n",
      "dtypes: bool(5), float64(4), int64(13), object(8)\n",
      "memory usage: 9.8+ MB\n"
     ]
    },
    {
     "data": {
      "text/plain": [
       "Index(['ID', 'Age', 'Gender', 'Marital_Status', 'Job_Role', 'Experience_Years',\n",
       "       'Monthly_Salary_INR', 'Working_Hours_per_Week', 'Commute_Time_Hours',\n",
       "       'Remote_Work', 'Stress_Level', 'Health_Issues', 'Company_Size',\n",
       "       'Department', 'Sleep_Hours', 'Physical_Activity_Hours_per_Week',\n",
       "       'Mental_Health_Leave_Taken', 'Manager_Support_Level',\n",
       "       'Work_Pressure_Level', 'Annual_Leaves_Taken', 'Work_Life_Balance',\n",
       "       'Family_Support_Level', 'Job_Satisfaction', 'Performance_Rating',\n",
       "       'Team_Size', 'Training_Opportunities', 'Gender_Bias_Experienced',\n",
       "       'Discrimination_Experienced', 'Burnout_Symptoms', 'Location'],\n",
       "      dtype='object')"
      ]
     },
     "execution_count": 14,
     "metadata": {},
     "output_type": "execute_result"
    }
   ],
   "source": [
    "# Does familial support help lower stress? \n",
    "# Is there a correlation between working remotely and work stress?\n",
    "\n",
    "\n",
    "import numpy as np\n",
    "import pandas as pd\n",
    "import scipy.stats as stats\n",
    "import matplotlib.pyplot as plt\n",
    "import seaborn as sns\n",
    "from pathlib import Path\n",
    "\n",
    "file_path = \"corporate_stress_dataset.csv\"  # Adjust if needed\n",
    "df = pd.read_csv(file_path)\n",
    "df.info()\n",
    "df.columns"
   ]
  },
  {
   "cell_type": "code",
   "execution_count": 15,
   "metadata": {},
   "outputs": [
    {
     "name": "stdout",
     "output_type": "stream",
     "text": [
      "Missing values:\n",
      " Family_Support_Level    0\n",
      "Stress_Level            0\n",
      "dtype: int64\n",
      "\n",
      "Spearman Correlation between Family Support Level and Stress Level:\n",
      "                      Family_Support_Level  Stress_Level\n",
      "Family_Support_Level              1.000000      0.000062\n",
      "Stress_Level                      0.000062      1.000000\n"
     ]
    }
   ],
   "source": [
    "# Check for missing values in relevant columns\n",
    "missing_values = df[['Family_Support_Level', 'Stress_Level']].isnull().sum()\n",
    "print(\"Missing values:\\n\", missing_values)\n",
    "\n",
    "# Compute correlation (Spearman for ordinal data)\n",
    "correlation = df[['Family_Support_Level', 'Stress_Level']].corr(method='spearman')\n",
    "print(\"\\nSpearman Correlation between Family Support Level and Stress Level:\")\n",
    "print(correlation)\n"
   ]
  },
  {
   "cell_type": "code",
   "execution_count": 16,
   "metadata": {},
   "outputs": [
    {
     "name": "stdout",
     "output_type": "stream",
     "text": [
      "Unique values in Remote_Work: [ True False]\n",
      "\n",
      "T-test results:\n",
      "T-statistic: nan\n",
      "P-value: nan\n"
     ]
    }
   ],
   "source": [
    "# Check unique values in Remote_Work\n",
    "print(\"Unique values in Remote_Work:\", df['Remote_Work'].unique())\n",
    "\n",
    "# Convert Remote_Work to numerical (if needed)\n",
    "df['Remote_Work'] = df['Remote_Work'].map({'Yes': 1, 'No': 0})\n",
    "\n",
    "# Extract stress levels for remote and non-remote workers\n",
    "remote_stress = df[df['Remote_Work'] == 1]['Stress_Level']\n",
    "non_remote_stress = df[df['Remote_Work'] == 0]['Stress_Level']\n",
    "\n",
    "# Perform an independent t-test\n",
    "t_stat, p_value = stats.ttest_ind(remote_stress, non_remote_stress, nan_policy='omit')\n",
    "\n",
    "print(\"\\nT-test results:\")\n",
    "print(f\"T-statistic: {t_stat}\")\n",
    "print(f\"P-value: {p_value}\")"
   ]
  }
 ],
 "metadata": {
  "kernelspec": {
   "display_name": "dev",
   "language": "python",
   "name": "python3"
  },
  "language_info": {
   "codemirror_mode": {
    "name": "ipython",
    "version": 3
   },
   "file_extension": ".py",
   "mimetype": "text/x-python",
   "name": "python",
   "nbconvert_exporter": "python",
   "pygments_lexer": "ipython3",
   "version": "3.10.16"
  }
 },
 "nbformat": 4,
 "nbformat_minor": 2
}
